{
  "nbformat": 4,
  "nbformat_minor": 0,
  "metadata": {
    "colab": {
      "provenance": [],
      "authorship_tag": "ABX9TyOWk0h4MdnIyiMSRujw5G8w",
      "include_colab_link": true
    },
    "kernelspec": {
      "name": "python3",
      "display_name": "Python 3"
    },
    "language_info": {
      "name": "python"
    }
  },
  "cells": [
    {
      "cell_type": "markdown",
      "metadata": {
        "id": "view-in-github",
        "colab_type": "text"
      },
      "source": [
        "<a href=\"https://colab.research.google.com/github/Juankisxd/Examen1/blob/main/CONSUMER.ipynb\" target=\"_parent\"><img src=\"https://colab.research.google.com/assets/colab-badge.svg\" alt=\"Open In Colab\"/></a>"
      ]
    },
    {
      "cell_type": "code",
      "execution_count": null,
      "metadata": {
        "id": "Uig7omRYu79p"
      },
      "outputs": [],
      "source": [
        "#Importamos librerias pandas, numpy y matplotlib \n",
        "import pandas as pd\n",
        "import numpy as np \n",
        "import matplotlib.pyplot as plt "
      ]
    },
    {
      "cell_type": "code",
      "source": [
        "#cargar archivo csv desde equipo\n",
        "from google.colab import files \n",
        "files.upload()"
      ],
      "metadata": {
        "id": "x2AjWQGqvBsh"
      },
      "execution_count": null,
      "outputs": []
    },
    {
      "cell_type": "code",
      "source": [
        "#cargar archivo csv sin indice \n",
        "data= pd.read_csv('consumer_mit_lift_lab.csv')"
      ],
      "metadata": {
        "id": "XPs7SBVgvq5t"
      },
      "execution_count": null,
      "outputs": []
    },
    {
      "cell_type": "code",
      "source": [
        "#verificar info\n",
        "data.info()"
      ],
      "metadata": {
        "id": "YgFMp2lIwqT0"
      },
      "execution_count": null,
      "outputs": []
    },
    {
      "cell_type": "code",
      "source": [
        "#corroboramos valores nulos\n",
        "valores_nulos=data.isnull().sum()\n",
        "valores_nulos"
      ],
      "metadata": {
        "id": "Jh6y5FmZwwxP"
      },
      "execution_count": null,
      "outputs": []
    },
    {
      "cell_type": "markdown",
      "source": [
        "REEMPLAZAMOS DATOS NULOS \n"
      ],
      "metadata": {
        "id": "yMwJx7vmyaeN"
      }
    },
    {
      "cell_type": "code",
      "source": [
        "#realizamos una copia del dataframe \n",
        "datos2=data.copy()"
      ],
      "metadata": {
        "id": "G5BGu7x92SMj"
      },
      "execution_count": null,
      "outputs": []
    },
    {
      "cell_type": "code",
      "source": [
        "#para el primero 'did_not_find', al ser un string se ocupara la funcion .fillna y la frase \"CONSUMIBLE_NO_DISPONIBLE\", ya que se habla de falta de productos \n",
        "datos2[\"300_did_not_find\"]=datos2[\"300_did_not_find\"].fillna(\"CONSUMIBLE_NO_DISPONIBLE\")\n",
        "datos2"
      ],
      "metadata": {
        "id": "125vItRuycmy"
      },
      "execution_count": null,
      "outputs": []
    },
    {
      "cell_type": "code",
      "source": [
        "#corroboramos valores nulos\n",
        "valores_nulos=datos2.isnull().sum()\n",
        "valores_nulos"
      ],
      "metadata": {
        "id": "XLKCoyDb29Ai"
      },
      "execution_count": null,
      "outputs": []
    },
    {
      "cell_type": "code",
      "source": [
        "#para el segundo '284_additional_products_store', al ser un string se ocupara la funcion .fillna y la frase \"PRODUCTOS_ADICIONALES\", ya que se habla de PRODUCTOS varios, que cambian con las tiendas \n",
        "datos2[\"284_additional_products_store\"]=datos2[\"284_additional_products_store\"].fillna(\"PRODUCTOS_ADICIONALES\")\n",
        "datos2"
      ],
      "metadata": {
        "id": "MBFKBtIH3K8M"
      },
      "execution_count": null,
      "outputs": []
    },
    {
      "cell_type": "code",
      "source": [
        "#corroboramos valores nulos\n",
        "valores_nulos=datos2.isnull().sum()\n",
        "valores_nulos"
      ],
      "metadata": {
        "id": "RM0dlnfT3oeJ"
      },
      "execution_count": null,
      "outputs": []
    },
    {
      "cell_type": "code",
      "source": [
        "#para el tercero '305_electricity_bill_store', al ser un string se ocupara la funcion .fillna y la frase \"INFO_NO_PROPORCIONADA\", ya que se trata de datos de pago de una cuenta de luz\n",
        "datos2[\"305_electricity_bill_store\"]=datos2[\"305_electricity_bill_store\"].fillna(\"INFO_NO_PROPORCIONADA\")\n",
        "datos2"
      ],
      "metadata": {
        "id": "1ml5kLID42LD"
      },
      "execution_count": null,
      "outputs": []
    },
    {
      "cell_type": "code",
      "source": [
        "#corroboramos valores nulos\n",
        "valores_nulos=datos2.isnull().sum()\n",
        "valores_nulos"
      ],
      "metadata": {
        "id": "xoFL7lxJ5QAG"
      },
      "execution_count": null,
      "outputs": []
    },
    {
      "cell_type": "code",
      "source": [
        "#teniendo un comportamiento similar al anterior, se aplicara el mismo tratamiento a estos datos nulos\n",
        "datos2[\"306_water_bill_store\"]=datos2[\"306_water_bill_store\"].fillna(\"INFO_NO_PROPORCIONADA\")\n",
        "datos2"
      ],
      "metadata": {
        "id": "hYkNafCwICPX"
      },
      "execution_count": null,
      "outputs": []
    },
    {
      "cell_type": "code",
      "source": [
        "#corroboramos valores nulos\n",
        "valores_nulos=datos2.isnull().sum()\n",
        "valores_nulos"
      ],
      "metadata": {
        "id": "bezsioU7IRuO"
      },
      "execution_count": null,
      "outputs": []
    },
    {
      "cell_type": "code",
      "source": [
        "#teniendo un comportamiento similar al anterior, se aplicara el mismo tratamiento a estos datos nulos\n",
        "datos2[\"307_gas_bill_store\"]=datos2[\"307_gas_bill_store\"].fillna(\"INFO_NO_PROPORCIONADA\")\n",
        "datos2"
      ],
      "metadata": {
        "id": "rhpdxPFqIT0Y"
      },
      "execution_count": null,
      "outputs": []
    },
    {
      "cell_type": "code",
      "source": [
        "#corroboramos valores nulos\n",
        "valores_nulos=datos2.isnull().sum()\n",
        "valores_nulos"
      ],
      "metadata": {
        "id": "KzYvq6IpIflA"
      },
      "execution_count": null,
      "outputs": []
    },
    {
      "cell_type": "code",
      "source": [
        "#teniendo un comportamiento similar al anterior, se aplicara el mismo tratamiento a estos datos nulos\n",
        "datos2[\"308_topups_in_store\"]=datos2[\"308_topups_in_store\"].fillna(\"INFO_NO_PROPORCIONADA\")\n",
        "datos2"
      ],
      "metadata": {
        "id": "zAIzwfZrIw04"
      },
      "execution_count": null,
      "outputs": []
    },
    {
      "cell_type": "code",
      "source": [
        "#corroboramos valores nulos\n",
        "valores_nulos=datos2.isnull().sum()\n",
        "valores_nulos"
      ],
      "metadata": {
        "id": "ET-PYvzYI2df"
      },
      "execution_count": null,
      "outputs": []
    },
    {
      "cell_type": "code",
      "source": [
        "#teniendo un comportamiento similar al anterior, se aplicara el mismo tratamiento a estos datos nulos\n",
        "datos2[\"309_wiretransfers_in_store\"]=datos2[\"309_wiretransfers_in_store\"].fillna(\"INFO_NO_PROPORCIONADA\")\n",
        "datos2"
      ],
      "metadata": {
        "id": "cGgVGJJbI816"
      },
      "execution_count": null,
      "outputs": []
    },
    {
      "cell_type": "code",
      "source": [
        "#corroboramos valores nulos\n",
        "valores_nulos=datos2.isnull().sum()\n",
        "valores_nulos"
      ],
      "metadata": {
        "id": "6IfKk-ZJJKfh"
      },
      "execution_count": null,
      "outputs": []
    },
    {
      "cell_type": "code",
      "source": [
        "#teniendo un comportamiento similar al anterior, se aplicara el mismo tratamiento a estos datos nulos\n",
        "datos2[\"304_additional_services_store\"]=datos2[\"304_additional_services_store\"].fillna(\"INFO_NO_PROPORCIONADA\")\n",
        "datos2"
      ],
      "metadata": {
        "id": "Ez8rRoMLMyBM"
      },
      "execution_count": null,
      "outputs": []
    },
    {
      "cell_type": "code",
      "source": [
        "#corroboramos valores nulos\n",
        "valores_nulos=datos2.isnull().sum()\n",
        "valores_nulos"
      ],
      "metadata": {
        "id": "4My1OHeAM-oH"
      },
      "execution_count": null,
      "outputs": []
    },
    {
      "cell_type": "code",
      "source": [
        "#teniendo un comportamiento similar al anterior, se aplicara el mismo tratamiento a estos datos nulos\n",
        "datos2[\"storefront_picture_just_once_if_possible\"]=datos2[\"storefront_picture_just_once_if_possible\"].fillna(\"IMAGEN_NO_PROPORCIONADA\")\n",
        "datos2"
      ],
      "metadata": {
        "id": "ELcPS7zUNLAz"
      },
      "execution_count": null,
      "outputs": []
    },
    {
      "cell_type": "code",
      "source": [
        "#corroboramos valores nulos\n",
        "valores_nulos=datos2.isnull().sum()\n",
        "valores_nulos"
      ],
      "metadata": {
        "id": "yGF-sV9RNTYW"
      },
      "execution_count": null,
      "outputs": []
    },
    {
      "cell_type": "markdown",
      "source": [
        "Para este punto, se han limpiado los valores nulos (principalmente textos)"
      ],
      "metadata": {
        "id": "wV77xRySNewD"
      }
    },
    {
      "cell_type": "code",
      "source": [
        "#realizamos diagrama de caja o bigote de cada columna \n",
        "fig= plt.figure(figsize=(15,8))\n",
        "datos2.plot(kind='box', vert=False)\n",
        "plt.title (\"Valores atipicos del Dataframe\")\n",
        "plt.show() #dibujamos el diagrama"
      ],
      "metadata": {
        "colab": {
          "base_uri": "https://localhost:8080/",
          "height": 298
        },
        "id": "WkejWToKNd-i",
        "outputId": "c954dc3b-f84a-4f9e-8a6b-135edb2fa322"
      },
      "execution_count": 40,
      "outputs": [
        {
          "output_type": "display_data",
          "data": {
            "text/plain": [
              "<Figure size 1080x576 with 0 Axes>"
            ]
          },
          "metadata": {}
        },
        {
          "output_type": "display_data",
          "data": {
            "text/plain": [
              "<Figure size 432x288 with 1 Axes>"
            ],
            "image/png": "[encoded data removed]"
          },
          "metadata": {
            "needs_background": "light"
          }
        }
      ]
    },
    {
      "cell_type": "markdown",
      "source": [
        "  A PARTIR DE ESTE PUNTO SE LIMPIAN VALORES ATIPICOS U OUTLIERS"
      ],
      "metadata": {
        "id": "Ox9TYwtyN-29"
      }
    },
    {
      "cell_type": "code",
      "source": [
        "#eliminamos columnas innecesarias\n",
        "datos3= datos2.drop(['_record_id','_title','309_wiretransfers_in_store', '_server_updated_at', '_updated_by','_geometry', '282_payment_method_that_purchase', '283_fulfill_needs', '300_did_not_find', '237_distance_household_interviewee', '299_means_transportation_consumer', '284_additional_products_store', '301_electricity_bill', '305_electricity_bill_store', '302_water_bill', '306_water_bill_store', '303_gas_bill', '307_gas_bill_store', '286_topups', '308_topups_in_store', '287_wire_transfers', '320_other_services_in_store', '304_additional_services_store', '240_gender_interviewee', 'indicate_the_type_of_store', 'name_of_the_store', 'storefront_picture_just_once_if_possible' ], axis=1)\n",
        "datos3"
      ],
      "metadata": {
        "colab": {
          "base_uri": "https://localhost:8080/",
          "height": 488
        },
        "id": "3WEe6OD3SK6S",
        "outputId": "8b8879d1-f965-4e82-c4df-adba3d0e050d"
      },
      "execution_count": 69,
      "outputs": [
        {
          "output_type": "execute_result",
          "data": {
            "text/plain": [
              "     _latitude  _longitude  238_frequency_buying_store  \\\n",
              "0    19.059841  -98.234980                           1   \n",
              "1    19.058479  -98.233566                           1   \n",
              "2    19.062077  -98.230339                           1   \n",
              "3    19.055535  -98.232916                           1   \n",
              "4    19.059012  -98.232994                           1   \n",
              "..         ...         ...                         ...   \n",
              "110  19.035224  -98.267100                           1   \n",
              "111  19.035280  -98.267856                           1   \n",
              "112  19.035451  -98.267862                           1   \n",
              "113  19.035486  -98.267831                           1   \n",
              "114  19.035399  -98.267924                           1   \n",
              "\n",
              "     81_number_online_purchases_month  288_number_app_purchases_month  \\\n",
              "0                                   1                               0   \n",
              "1                                   1                               2   \n",
              "2                                   0                               0   \n",
              "3                                   2                               3   \n",
              "4                                   2                               5   \n",
              "..                                ...                             ...   \n",
              "110                                15                              10   \n",
              "111                                 1                               1   \n",
              "112                                 3                               2   \n",
              "113                                 2                               4   \n",
              "114                                 0                               3   \n",
              "\n",
              "     289_number_whatsapp_purchases_month  83_willingness_ultrafast_delivery  \\\n",
              "0                                      0                                  0   \n",
              "1                                      0                                 35   \n",
              "2                                      0                                 40   \n",
              "3                                      0                                  0   \n",
              "4                                      0                                  0   \n",
              "..                                   ...                                ...   \n",
              "110                                    0                                100   \n",
              "111                                    0                                 50   \n",
              "112                                    0                                  0   \n",
              "113                                    0                                 30   \n",
              "114                                    0                                150   \n",
              "\n",
              "     84_willingness_sameday_delivery  241_age_of_the_interviewee  \n",
              "0                                  0                          35  \n",
              "1                                 50                          27  \n",
              "2                                 25                          42  \n",
              "3                                  0                          27  \n",
              "4                                 50                          35  \n",
              "..                               ...                         ...  \n",
              "110                              100                          15  \n",
              "111                               70                          21  \n",
              "112                                0                          18  \n",
              "113                              100                          18  \n",
              "114                             1000                          18  \n",
              "\n",
              "[115 rows x 9 columns]"
            ],
            "text/html": [
              "\n",
              "  <div id=\"df-ab148c85-84f2-4574-a2d8-32d37a34489a\">\n",
              "    <div class=\"colab-df-container\">\n",
              "      <div>\n",
              "<style scoped>\n",
              "    .dataframe tbody tr th:only-of-type {\n",
              "        vertical-align: middle;\n",
              "    }\n",
              "\n",
              "    .dataframe tbody tr th {\n",
              "        vertical-align: top;\n",
              "    }\n",
              "\n",
              "    .dataframe thead th {\n",
              "        text-align: right;\n",
              "    }\n",
              "</style>\n",
              "<table border=\"1\" class=\"dataframe\">\n",
              "  <thead>\n",
              "    <tr style=\"text-align: right;\">\n",
              "      <th></th>\n",
              "      <th>_latitude</th>\n",
              "      <th>_longitude</th>\n",
              "      <th>238_frequency_buying_store</th>\n",
              "      <th>81_number_online_purchases_month</th>\n",
              "      <th>288_number_app_purchases_month</th>\n",
              "      <th>289_number_whatsapp_purchases_month</th>\n",
              "      <th>83_willingness_ultrafast_delivery</th>\n",
              "      <th>84_willingness_sameday_delivery</th>\n",
              "      <th>241_age_of_the_interviewee</th>\n",
              "    </tr>\n",
              "  </thead>\n",
              "  <tbody>\n",
              "    <tr>\n",
              "      <th>0</th>\n",
              "      <td>19.059841</td>\n",
              "      <td>-98.234980</td>\n",
              "      <td>1</td>\n",
              "      <td>1</td>\n",
              "      <td>0</td>\n",
              "      <td>0</td>\n",
              "      <td>0</td>\n",
              "      <td>0</td>\n",
              "      <td>35</td>\n",
              "    </tr>\n",
              "    <tr>\n",
              "      <th>1</th>\n",
              "      <td>19.058479</td>\n",
              "      <td>-98.233566</td>\n",
              "      <td>1</td>\n",
              "      <td>1</td>\n",
              "      <td>2</td>\n",
              "      <td>0</td>\n",
              "      <td>35</td>\n",
              "      <td>50</td>\n",
              "      <td>27</td>\n",
              "    </tr>\n",
              "    <tr>\n",
              "      <th>2</th>\n",
              "      <td>19.062077</td>\n",
              "      <td>-98.230339</td>\n",
              "      <td>1</td>\n",
              "      <td>0</td>\n",
              "      <td>0</td>\n",
              "      <td>0</td>\n",
              "      <td>40</td>\n",
              "      <td>25</td>\n",
              "      <td>42</td>\n",
              "    </tr>\n",
              "    <tr>\n",
              "      <th>3</th>\n",
              "      <td>19.055535</td>\n",
              "      <td>-98.232916</td>\n",
              "      <td>1</td>\n",
              "      <td>2</td>\n",
              "      <td>3</td>\n",
              "      <td>0</td>\n",
              "      <td>0</td>\n",
              "      <td>0</td>\n",
              "      <td>27</td>\n",
              "    </tr>\n",
              "    <tr>\n",
              "      <th>4</th>\n",
              "      <td>19.059012</td>\n",
              "      <td>-98.232994</td>\n",
              "      <td>1</td>\n",
              "      <td>2</td>\n",
              "      <td>5</td>\n",
              "      <td>0</td>\n",
              "      <td>0</td>\n",
              "      <td>50</td>\n",
              "      <td>35</td>\n",
              "    </tr>\n",
              "    <tr>\n",
              "      <th>...</th>\n",
              "      <td>...</td>\n",
              "      <td>...</td>\n",
              "      <td>...</td>\n",
              "      <td>...</td>\n",
              "      <td>...</td>\n",
              "      <td>...</td>\n",
              "      <td>...</td>\n",
              "      <td>...</td>\n",
              "      <td>...</td>\n",
              "    </tr>\n",
              "    <tr>\n",
              "      <th>110</th>\n",
              "      <td>19.035224</td>\n",
              "      <td>-98.267100</td>\n",
              "      <td>1</td>\n",
              "      <td>15</td>\n",
              "      <td>10</td>\n",
              "      <td>0</td>\n",
              "      <td>100</td>\n",
              "      <td>100</td>\n",
              "      <td>15</td>\n",
              "    </tr>\n",
              "    <tr>\n",
              "      <th>111</th>\n",
              "      <td>19.035280</td>\n",
              "      <td>-98.267856</td>\n",
              "      <td>1</td>\n",
              "      <td>1</td>\n",
              "      <td>1</td>\n",
              "      <td>0</td>\n",
              "      <td>50</td>\n",
              "      <td>70</td>\n",
              "      <td>21</td>\n",
              "    </tr>\n",
              "    <tr>\n",
              "      <th>112</th>\n",
              "      <td>19.035451</td>\n",
              "      <td>-98.267862</td>\n",
              "      <td>1</td>\n",
              "      <td>3</td>\n",
              "      <td>2</td>\n",
              "      <td>0</td>\n",
              "      <td>0</td>\n",
              "      <td>0</td>\n",
              "      <td>18</td>\n",
              "    </tr>\n",
              "    <tr>\n",
              "      <th>113</th>\n",
              "      <td>19.035486</td>\n",
              "      <td>-98.267831</td>\n",
              "      <td>1</td>\n",
              "      <td>2</td>\n",
              "      <td>4</td>\n",
              "      <td>0</td>\n",
              "      <td>30</td>\n",
              "      <td>100</td>\n",
              "      <td>18</td>\n",
              "    </tr>\n",
              "    <tr>\n",
              "      <th>114</th>\n",
              "      <td>19.035399</td>\n",
              "      <td>-98.267924</td>\n",
              "      <td>1</td>\n",
              "      <td>0</td>\n",
              "      <td>3</td>\n",
              "      <td>0</td>\n",
              "      <td>150</td>\n",
              "      <td>1000</td>\n",
              "      <td>18</td>\n",
              "    </tr>\n",
              "  </tbody>\n",
              "</table>\n",
              "<p>115 rows × 9 columns</p>\n",
              "</div>\n",
              "      <button class=\"colab-df-convert\" onclick=\"convertToInteractive('df-ab148c85-84f2-4574-a2d8-32d37a34489a')\"\n",
              "              title=\"Convert this dataframe to an interactive table.\"\n",
              "              style=\"display:none;\">\n",
              "        \n",
              "  <svg xmlns=\"http://www.w3.org/2000/svg\" height=\"24px\"viewBox=\"0 0 24 24\"\n",
              "       width=\"24px\">\n",
              "    <path d=\"M0 0h24v24H0V0z\" fill=\"none\"/>\n",
              "    <path d=\"M18.56 5.44l.94 2.06.94-2.06 2.06-.94-2.06-.94-.94-2.06-.94 2.06-2.06.94zm-11 1L8.5 8.5l.94-2.06 2.06-.94-2.06-.94L8.5 2.5l-.94 2.06-2.06.94zm10 10l.94 2.06.94-2.06 2.06-.94-2.06-.94-.94-2.06-.94 2.06-2.06.94z\"/><path d=\"M17.41 7.96l-1.37-1.37c-.4-.4-.92-.59-1.43-.59-.52 0-1.04.2-1.43.59L10.3 9.45l-7.72 7.72c-.78.78-.78 2.05 0 2.83L4 21.41c.39.39.9.59 1.41.59.51 0 1.02-.2 1.41-.59l7.78-7.78 2.81-2.81c.8-.78.8-2.07 0-2.86zM5.41 20L4 18.59l7.72-7.72 1.47 1.35L5.41 20z\"/>\n",
              "  </svg>\n",
              "      </button>\n",
              "      \n",
              "  <style>\n",
              "    .colab-df-container {\n",
              "      display:flex;\n",
              "      flex-wrap:wrap;\n",
              "      gap: 12px;\n",
              "    }\n",
              "\n",
              "    .colab-df-convert {\n",
              "      background-color: #E8F0FE;\n",
              "      border: none;\n",
              "      border-radius: 50%;\n",
              "      cursor: pointer;\n",
              "      display: none;\n",
              "      fill: #1967D2;\n",
              "      height: 32px;\n",
              "      padding: 0 0 0 0;\n",
              "      width: 32px;\n",
              "    }\n",
              "\n",
              "    .colab-df-convert:hover {\n",
              "      background-color: #E2EBFA;\n",
              "      box-shadow: 0px 1px 2px rgba(60, 64, 67, 0.3), 0px 1px 3px 1px rgba(60, 64, 67, 0.15);\n",
              "      fill: #174EA6;\n",
              "    }\n",
              "\n",
              "    [theme=dark] .colab-df-convert {\n",
              "      background-color: #3B4455;\n",
              "      fill: #D2E3FC;\n",
              "    }\n",
              "\n",
              "    [theme=dark] .colab-df-convert:hover {\n",
              "      background-color: #434B5C;\n",
              "      box-shadow: 0px 1px 3px 1px rgba(0, 0, 0, 0.15);\n",
              "      filter: drop-shadow(0px 1px 2px rgba(0, 0, 0, 0.3));\n",
              "      fill: #FFFFFF;\n",
              "    }\n",
              "  </style>\n",
              "\n",
              "      <script>\n",
              "        const buttonEl =\n",
              "          document.querySelector('#df-ab148c85-84f2-4574-a2d8-32d37a34489a button.colab-df-convert');\n",
              "        buttonEl.style.display =\n",
              "          google.colab.kernel.accessAllowed ? 'block' : 'none';\n",
              "\n",
              "        async function convertToInteractive(key) {\n",
              "          const element = document.querySelector('#df-ab148c85-84f2-4574-a2d8-32d37a34489a');\n",
              "          const dataTable =\n",
              "            await google.colab.kernel.invokeFunction('convertToInteractive',\n",
              "                                                     [key], {});\n",
              "          if (!dataTable) return;\n",
              "\n",
              "          const docLinkHtml = 'Like what you see? Visit the ' +\n",
              "            '<a target=\"_blank\" href=https://colab.research.google.com/notebooks/data_table.ipynb>data table notebook</a>'\n",
              "            + ' to learn more about interactive tables.';\n",
              "          element.innerHTML = '';\n",
              "          dataTable['output_type'] = 'display_data';\n",
              "          await google.colab.output.renderOutput(dataTable, element);\n",
              "          const docLink = document.createElement('div');\n",
              "          docLink.innerHTML = docLinkHtml;\n",
              "          element.appendChild(docLink);\n",
              "        }\n",
              "      </script>\n",
              "    </div>\n",
              "  </div>\n",
              "  "
            ]
          },
          "metadata": {},
          "execution_count": 69
        }
      ]
    },
    {
      "cell_type": "code",
      "source": [
        "#en este punto se define la desviacion estandar\n",
        "y=datos3\n",
        "limite_superior= y.mean()+3*y.std()\n",
        "limite_inferior= y.mean()-3*y.std()\n",
        "print(\"Limite superior permitido\", limite_superior)\n",
        "print(\"Limite inferior permitido\", limite_superior)"
      ],
      "metadata": {
        "colab": {
          "base_uri": "https://localhost:8080/"
        },
        "id": "qwouXdm1OJ1x",
        "outputId": "ee2b5b82-6858-4ddc-90cd-1a468f481ab8"
      },
      "execution_count": 77,
      "outputs": [
        {
          "output_type": "stream",
          "name": "stdout",
          "text": [
            "Limite superior permitido _latitude                               19.110143\n",
            "_longitude                             -98.092103\n",
            "238_frequency_buying_store               6.315174\n",
            "81_number_online_purchases_month        13.640687\n",
            "288_number_app_purchases_month          23.607792\n",
            "289_number_whatsapp_purchases_month      8.188708\n",
            "83_willingness_ultrafast_delivery      208.723621\n",
            "84_willingness_sameday_delivery        404.146007\n",
            "241_age_of_the_interviewee              72.249359\n",
            "dtype: float64\n",
            "Limite inferior permitido _latitude                               19.110143\n",
            "_longitude                             -98.092103\n",
            "238_frequency_buying_store               6.315174\n",
            "81_number_online_purchases_month        13.640687\n",
            "288_number_app_purchases_month          23.607792\n",
            "289_number_whatsapp_purchases_month      8.188708\n",
            "83_willingness_ultrafast_delivery      208.723621\n",
            "84_willingness_sameday_delivery        404.146007\n",
            "241_age_of_the_interviewee              72.249359\n",
            "dtype: float64\n"
          ]
        }
      ]
    },
    {
      "cell_type": "code",
      "source": [
        "#encontramos outliers del dataframe \n",
        "outliers= datos3[(y>limite_superior)|(y<limite_inferior)]\n",
        "outliers"
      ],
      "metadata": {
        "colab": {
          "base_uri": "https://localhost:8080/",
          "height": 488
        },
        "id": "zZldPZPDQAWh",
        "outputId": "2cbbb561-71e2-4384-e754-6bbf2faad118"
      },
      "execution_count": 78,
      "outputs": [
        {
          "output_type": "execute_result",
          "data": {
            "text/plain": [
              "     _latitude  _longitude  238_frequency_buying_store  \\\n",
              "0          NaN         NaN                         NaN   \n",
              "1          NaN         NaN                         NaN   \n",
              "2          NaN         NaN                         NaN   \n",
              "3          NaN         NaN                         NaN   \n",
              "4          NaN         NaN                         NaN   \n",
              "..         ...         ...                         ...   \n",
              "110        NaN         NaN                         NaN   \n",
              "111        NaN         NaN                         NaN   \n",
              "112        NaN         NaN                         NaN   \n",
              "113        NaN         NaN                         NaN   \n",
              "114        NaN         NaN                         NaN   \n",
              "\n",
              "     81_number_online_purchases_month  288_number_app_purchases_month  \\\n",
              "0                                 NaN                             NaN   \n",
              "1                                 NaN                             NaN   \n",
              "2                                 NaN                             NaN   \n",
              "3                                 NaN                             NaN   \n",
              "4                                 NaN                             NaN   \n",
              "..                                ...                             ...   \n",
              "110                              15.0                             NaN   \n",
              "111                               NaN                             NaN   \n",
              "112                               NaN                             NaN   \n",
              "113                               NaN                             NaN   \n",
              "114                               NaN                             NaN   \n",
              "\n",
              "     289_number_whatsapp_purchases_month  83_willingness_ultrafast_delivery  \\\n",
              "0                                    NaN                                NaN   \n",
              "1                                    NaN                                NaN   \n",
              "2                                    NaN                                NaN   \n",
              "3                                    NaN                                NaN   \n",
              "4                                    NaN                                NaN   \n",
              "..                                   ...                                ...   \n",
              "110                                  NaN                                NaN   \n",
              "111                                  NaN                                NaN   \n",
              "112                                  NaN                                NaN   \n",
              "113                                  NaN                                NaN   \n",
              "114                                  NaN                                NaN   \n",
              "\n",
              "     84_willingness_sameday_delivery  241_age_of_the_interviewee  \n",
              "0                                NaN                         NaN  \n",
              "1                                NaN                         NaN  \n",
              "2                                NaN                         NaN  \n",
              "3                                NaN                         NaN  \n",
              "4                                NaN                         NaN  \n",
              "..                               ...                         ...  \n",
              "110                              NaN                         NaN  \n",
              "111                              NaN                         NaN  \n",
              "112                              NaN                         NaN  \n",
              "113                              NaN                         NaN  \n",
              "114                           1000.0                         NaN  \n",
              "\n",
              "[115 rows x 9 columns]"
            ],
            "text/html": [
              "\n",
              "  <div id=\"df-b3b6e2ba-936d-4755-a861-c75fee45bd38\">\n",
              "    <div class=\"colab-df-container\">\n",
              "      <div>\n",
              "<style scoped>\n",
              "    .dataframe tbody tr th:only-of-type {\n",
              "        vertical-align: middle;\n",
              "    }\n",
              "\n",
              "    .dataframe tbody tr th {\n",
              "        vertical-align: top;\n",
              "    }\n",
              "\n",
              "    .dataframe thead th {\n",
              "        text-align: right;\n",
              "    }\n",
              "</style>\n",
              "<table border=\"1\" class=\"dataframe\">\n",
              "  <thead>\n",
              "    <tr style=\"text-align: right;\">\n",
              "      <th></th>\n",
              "      <th>_latitude</th>\n",
              "      <th>_longitude</th>\n",
              "      <th>238_frequency_buying_store</th>\n",
              "      <th>81_number_online_purchases_month</th>\n",
              "      <th>288_number_app_purchases_month</th>\n",
              "      <th>289_number_whatsapp_purchases_month</th>\n",
              "      <th>83_willingness_ultrafast_delivery</th>\n",
              "      <th>84_willingness_sameday_delivery</th>\n",
              "      <th>241_age_of_the_interviewee</th>\n",
              "    </tr>\n",
              "  </thead>\n",
              "  <tbody>\n",
              "    <tr>\n",
              "      <th>0</th>\n",
              "      <td>NaN</td>\n",
              "      <td>NaN</td>\n",
              "      <td>NaN</td>\n",
              "      <td>NaN</td>\n",
              "      <td>NaN</td>\n",
              "      <td>NaN</td>\n",
              "      <td>NaN</td>\n",
              "      <td>NaN</td>\n",
              "      <td>NaN</td>\n",
              "    </tr>\n",
              "    <tr>\n",
              "      <th>1</th>\n",
              "      <td>NaN</td>\n",
              "      <td>NaN</td>\n",
              "      <td>NaN</td>\n",
              "      <td>NaN</td>\n",
              "      <td>NaN</td>\n",
              "      <td>NaN</td>\n",
              "      <td>NaN</td>\n",
              "      <td>NaN</td>\n",
              "      <td>NaN</td>\n",
              "    </tr>\n",
              "    <tr>\n",
              "      <th>2</th>\n",
              "      <td>NaN</td>\n",
              "      <td>NaN</td>\n",
              "      <td>NaN</td>\n",
              "      <td>NaN</td>\n",
              "      <td>NaN</td>\n",
              "      <td>NaN</td>\n",
              "      <td>NaN</td>\n",
              "      <td>NaN</td>\n",
              "      <td>NaN</td>\n",
              "    </tr>\n",
              "    <tr>\n",
              "      <th>3</th>\n",
              "      <td>NaN</td>\n",
              "      <td>NaN</td>\n",
              "      <td>NaN</td>\n",
              "      <td>NaN</td>\n",
              "      <td>NaN</td>\n",
              "      <td>NaN</td>\n",
              "      <td>NaN</td>\n",
              "      <td>NaN</td>\n",
              "      <td>NaN</td>\n",
              "    </tr>\n",
              "    <tr>\n",
              "      <th>4</th>\n",
              "      <td>NaN</td>\n",
              "      <td>NaN</td>\n",
              "      <td>NaN</td>\n",
              "      <td>NaN</td>\n",
              "      <td>NaN</td>\n",
              "      <td>NaN</td>\n",
              "      <td>NaN</td>\n",
              "      <td>NaN</td>\n",
              "      <td>NaN</td>\n",
              "    </tr>\n",
              "    <tr>\n",
              "      <th>...</th>\n",
              "      <td>...</td>\n",
              "      <td>...</td>\n",
              "      <td>...</td>\n",
              "      <td>...</td>\n",
              "      <td>...</td>\n",
              "      <td>...</td>\n",
              "      <td>...</td>\n",
              "      <td>...</td>\n",
              "      <td>...</td>\n",
              "    </tr>\n",
              "    <tr>\n",
              "      <th>110</th>\n",
              "      <td>NaN</td>\n",
              "      <td>NaN</td>\n",
              "      <td>NaN</td>\n",
              "      <td>15.0</td>\n",
              "      <td>NaN</td>\n",
              "      <td>NaN</td>\n",
              "      <td>NaN</td>\n",
              "      <td>NaN</td>\n",
              "      <td>NaN</td>\n",
              "    </tr>\n",
              "    <tr>\n",
              "      <th>111</th>\n",
              "      <td>NaN</td>\n",
              "      <td>NaN</td>\n",
              "      <td>NaN</td>\n",
              "      <td>NaN</td>\n",
              "      <td>NaN</td>\n",
              "      <td>NaN</td>\n",
              "      <td>NaN</td>\n",
              "      <td>NaN</td>\n",
              "      <td>NaN</td>\n",
              "    </tr>\n",
              "    <tr>\n",
              "      <th>112</th>\n",
              "      <td>NaN</td>\n",
              "      <td>NaN</td>\n",
              "      <td>NaN</td>\n",
              "      <td>NaN</td>\n",
              "      <td>NaN</td>\n",
              "      <td>NaN</td>\n",
              "      <td>NaN</td>\n",
              "      <td>NaN</td>\n",
              "      <td>NaN</td>\n",
              "    </tr>\n",
              "    <tr>\n",
              "      <th>113</th>\n",
              "      <td>NaN</td>\n",
              "      <td>NaN</td>\n",
              "      <td>NaN</td>\n",
              "      <td>NaN</td>\n",
              "      <td>NaN</td>\n",
              "      <td>NaN</td>\n",
              "      <td>NaN</td>\n",
              "      <td>NaN</td>\n",
              "      <td>NaN</td>\n",
              "    </tr>\n",
              "    <tr>\n",
              "      <th>114</th>\n",
              "      <td>NaN</td>\n",
              "      <td>NaN</td>\n",
              "      <td>NaN</td>\n",
              "      <td>NaN</td>\n",
              "      <td>NaN</td>\n",
              "      <td>NaN</td>\n",
              "      <td>NaN</td>\n",
              "      <td>1000.0</td>\n",
              "      <td>NaN</td>\n",
              "    </tr>\n",
              "  </tbody>\n",
              "</table>\n",
              "<p>115 rows × 9 columns</p>\n",
              "</div>\n",
              "      <button class=\"colab-df-convert\" onclick=\"convertToInteractive('df-b3b6e2ba-936d-4755-a861-c75fee45bd38')\"\n",
              "              title=\"Convert this dataframe to an interactive table.\"\n",
              "              style=\"display:none;\">\n",
              "        \n",
              "  <svg xmlns=\"http://www.w3.org/2000/svg\" height=\"24px\"viewBox=\"0 0 24 24\"\n",
              "       width=\"24px\">\n",
              "    <path d=\"M0 0h24v24H0V0z\" fill=\"none\"/>\n",
              "    <path d=\"M18.56 5.44l.94 2.06.94-2.06 2.06-.94-2.06-.94-.94-2.06-.94 2.06-2.06.94zm-11 1L8.5 8.5l.94-2.06 2.06-.94-2.06-.94L8.5 2.5l-.94 2.06-2.06.94zm10 10l.94 2.06.94-2.06 2.06-.94-2.06-.94-.94-2.06-.94 2.06-2.06.94z\"/><path d=\"M17.41 7.96l-1.37-1.37c-.4-.4-.92-.59-1.43-.59-.52 0-1.04.2-1.43.59L10.3 9.45l-7.72 7.72c-.78.78-.78 2.05 0 2.83L4 21.41c.39.39.9.59 1.41.59.51 0 1.02-.2 1.41-.59l7.78-7.78 2.81-2.81c.8-.78.8-2.07 0-2.86zM5.41 20L4 18.59l7.72-7.72 1.47 1.35L5.41 20z\"/>\n",
              "  </svg>\n",
              "      </button>\n",
              "      \n",
              "  <style>\n",
              "    .colab-df-container {\n",
              "      display:flex;\n",
              "      flex-wrap:wrap;\n",
              "      gap: 12px;\n",
              "    }\n",
              "\n",
              "    .colab-df-convert {\n",
              "      background-color: #E8F0FE;\n",
              "      border: none;\n",
              "      border-radius: 50%;\n",
              "      cursor: pointer;\n",
              "      display: none;\n",
              "      fill: #1967D2;\n",
              "      height: 32px;\n",
              "      padding: 0 0 0 0;\n",
              "      width: 32px;\n",
              "    }\n",
              "\n",
              "    .colab-df-convert:hover {\n",
              "      background-color: #E2EBFA;\n",
              "      box-shadow: 0px 1px 2px rgba(60, 64, 67, 0.3), 0px 1px 3px 1px rgba(60, 64, 67, 0.15);\n",
              "      fill: #174EA6;\n",
              "    }\n",
              "\n",
              "    [theme=dark] .colab-df-convert {\n",
              "      background-color: #3B4455;\n",
              "      fill: #D2E3FC;\n",
              "    }\n",
              "\n",
              "    [theme=dark] .colab-df-convert:hover {\n",
              "      background-color: #434B5C;\n",
              "      box-shadow: 0px 1px 3px 1px rgba(0, 0, 0, 0.15);\n",
              "      filter: drop-shadow(0px 1px 2px rgba(0, 0, 0, 0.3));\n",
              "      fill: #FFFFFF;\n",
              "    }\n",
              "  </style>\n",
              "\n",
              "      <script>\n",
              "        const buttonEl =\n",
              "          document.querySelector('#df-b3b6e2ba-936d-4755-a861-c75fee45bd38 button.colab-df-convert');\n",
              "        buttonEl.style.display =\n",
              "          google.colab.kernel.accessAllowed ? 'block' : 'none';\n",
              "\n",
              "        async function convertToInteractive(key) {\n",
              "          const element = document.querySelector('#df-b3b6e2ba-936d-4755-a861-c75fee45bd38');\n",
              "          const dataTable =\n",
              "            await google.colab.kernel.invokeFunction('convertToInteractive',\n",
              "                                                     [key], {});\n",
              "          if (!dataTable) return;\n",
              "\n",
              "          const docLinkHtml = 'Like what you see? Visit the ' +\n",
              "            '<a target=\"_blank\" href=https://colab.research.google.com/notebooks/data_table.ipynb>data table notebook</a>'\n",
              "            + ' to learn more about interactive tables.';\n",
              "          element.innerHTML = '';\n",
              "          dataTable['output_type'] = 'display_data';\n",
              "          await google.colab.output.renderOutput(dataTable, element);\n",
              "          const docLink = document.createElement('div');\n",
              "          docLink.innerHTML = docLinkHtml;\n",
              "          element.appendChild(docLink);\n",
              "        }\n",
              "      </script>\n",
              "    </div>\n",
              "  </div>\n",
              "  "
            ]
          },
          "metadata": {},
          "execution_count": 78
        }
      ]
    },
    {
      "cell_type": "code",
      "source": [
        "#convertir outliers en nulos en dataframe\n",
        "datos4 = datos3[(y<=limite_superior)&(y>=limite_inferior)]\n",
        "datos4"
      ],
      "metadata": {
        "colab": {
          "base_uri": "https://localhost:8080/",
          "height": 488
        },
        "id": "A_2dqnWrQEyq",
        "outputId": "5cf47954-cd08-4d9a-b889-931d3399a2ea"
      },
      "execution_count": 79,
      "outputs": [
        {
          "output_type": "execute_result",
          "data": {
            "text/plain": [
              "     _latitude  _longitude  238_frequency_buying_store  \\\n",
              "0    19.059841  -98.234980                         1.0   \n",
              "1    19.058479  -98.233566                         1.0   \n",
              "2    19.062077  -98.230339                         1.0   \n",
              "3    19.055535  -98.232916                         1.0   \n",
              "4    19.059012  -98.232994                         1.0   \n",
              "..         ...         ...                         ...   \n",
              "110  19.035224  -98.267100                         1.0   \n",
              "111  19.035280  -98.267856                         1.0   \n",
              "112  19.035451  -98.267862                         1.0   \n",
              "113  19.035486  -98.267831                         1.0   \n",
              "114  19.035399  -98.267924                         1.0   \n",
              "\n",
              "     81_number_online_purchases_month  288_number_app_purchases_month  \\\n",
              "0                                 1.0                             0.0   \n",
              "1                                 1.0                             2.0   \n",
              "2                                 0.0                             0.0   \n",
              "3                                 2.0                             3.0   \n",
              "4                                 2.0                             5.0   \n",
              "..                                ...                             ...   \n",
              "110                               NaN                            10.0   \n",
              "111                               1.0                             1.0   \n",
              "112                               3.0                             2.0   \n",
              "113                               2.0                             4.0   \n",
              "114                               0.0                             3.0   \n",
              "\n",
              "     289_number_whatsapp_purchases_month  83_willingness_ultrafast_delivery  \\\n",
              "0                                    0.0                                0.0   \n",
              "1                                    0.0                               35.0   \n",
              "2                                    0.0                               40.0   \n",
              "3                                    0.0                                0.0   \n",
              "4                                    0.0                                0.0   \n",
              "..                                   ...                                ...   \n",
              "110                                  0.0                              100.0   \n",
              "111                                  0.0                               50.0   \n",
              "112                                  0.0                                0.0   \n",
              "113                                  0.0                               30.0   \n",
              "114                                  0.0                              150.0   \n",
              "\n",
              "     84_willingness_sameday_delivery  241_age_of_the_interviewee  \n",
              "0                                0.0                        35.0  \n",
              "1                               50.0                        27.0  \n",
              "2                               25.0                        42.0  \n",
              "3                                0.0                        27.0  \n",
              "4                               50.0                        35.0  \n",
              "..                               ...                         ...  \n",
              "110                            100.0                        15.0  \n",
              "111                             70.0                        21.0  \n",
              "112                              0.0                        18.0  \n",
              "113                            100.0                        18.0  \n",
              "114                              NaN                        18.0  \n",
              "\n",
              "[115 rows x 9 columns]"
            ],
            "text/html": [
              "\n",
              "  <div id=\"df-51d0b1b7-212d-433f-9058-28d03a4e95f2\">\n",
              "    <div class=\"colab-df-container\">\n",
              "      <div>\n",
              "<style scoped>\n",
              "    .dataframe tbody tr th:only-of-type {\n",
              "        vertical-align: middle;\n",
              "    }\n",
              "\n",
              "    .dataframe tbody tr th {\n",
              "        vertical-align: top;\n",
              "    }\n",
              "\n",
              "    .dataframe thead th {\n",
              "        text-align: right;\n",
              "    }\n",
              "</style>\n",
              "<table border=\"1\" class=\"dataframe\">\n",
              "  <thead>\n",
              "    <tr style=\"text-align: right;\">\n",
              "      <th></th>\n",
              "      <th>_latitude</th>\n",
              "      <th>_longitude</th>\n",
              "      <th>238_frequency_buying_store</th>\n",
              "      <th>81_number_online_purchases_month</th>\n",
              "      <th>288_number_app_purchases_month</th>\n",
              "      <th>289_number_whatsapp_purchases_month</th>\n",
              "      <th>83_willingness_ultrafast_delivery</th>\n",
              "      <th>84_willingness_sameday_delivery</th>\n",
              "      <th>241_age_of_the_interviewee</th>\n",
              "    </tr>\n",
              "  </thead>\n",
              "  <tbody>\n",
              "    <tr>\n",
              "      <th>0</th>\n",
              "      <td>19.059841</td>\n",
              "      <td>-98.234980</td>\n",
              "      <td>1.0</td>\n",
              "      <td>1.0</td>\n",
              "      <td>0.0</td>\n",
              "      <td>0.0</td>\n",
              "      <td>0.0</td>\n",
              "      <td>0.0</td>\n",
              "      <td>35.0</td>\n",
              "    </tr>\n",
              "    <tr>\n",
              "      <th>1</th>\n",
              "      <td>19.058479</td>\n",
              "      <td>-98.233566</td>\n",
              "      <td>1.0</td>\n",
              "      <td>1.0</td>\n",
              "      <td>2.0</td>\n",
              "      <td>0.0</td>\n",
              "      <td>35.0</td>\n",
              "      <td>50.0</td>\n",
              "      <td>27.0</td>\n",
              "    </tr>\n",
              "    <tr>\n",
              "      <th>2</th>\n",
              "      <td>19.062077</td>\n",
              "      <td>-98.230339</td>\n",
              "      <td>1.0</td>\n",
              "      <td>0.0</td>\n",
              "      <td>0.0</td>\n",
              "      <td>0.0</td>\n",
              "      <td>40.0</td>\n",
              "      <td>25.0</td>\n",
              "      <td>42.0</td>\n",
              "    </tr>\n",
              "    <tr>\n",
              "      <th>3</th>\n",
              "      <td>19.055535</td>\n",
              "      <td>-98.232916</td>\n",
              "      <td>1.0</td>\n",
              "      <td>2.0</td>\n",
              "      <td>3.0</td>\n",
              "      <td>0.0</td>\n",
              "      <td>0.0</td>\n",
              "      <td>0.0</td>\n",
              "      <td>27.0</td>\n",
              "    </tr>\n",
              "    <tr>\n",
              "      <th>4</th>\n",
              "      <td>19.059012</td>\n",
              "      <td>-98.232994</td>\n",
              "      <td>1.0</td>\n",
              "      <td>2.0</td>\n",
              "      <td>5.0</td>\n",
              "      <td>0.0</td>\n",
              "      <td>0.0</td>\n",
              "      <td>50.0</td>\n",
              "      <td>35.0</td>\n",
              "    </tr>\n",
              "    <tr>\n",
              "      <th>...</th>\n",
              "      <td>...</td>\n",
              "      <td>...</td>\n",
              "      <td>...</td>\n",
              "      <td>...</td>\n",
              "      <td>...</td>\n",
              "      <td>...</td>\n",
              "      <td>...</td>\n",
              "      <td>...</td>\n",
              "      <td>...</td>\n",
              "    </tr>\n",
              "    <tr>\n",
              "      <th>110</th>\n",
              "      <td>19.035224</td>\n",
              "      <td>-98.267100</td>\n",
              "      <td>1.0</td>\n",
              "      <td>NaN</td>\n",
              "      <td>10.0</td>\n",
              "      <td>0.0</td>\n",
              "      <td>100.0</td>\n",
              "      <td>100.0</td>\n",
              "      <td>15.0</td>\n",
              "    </tr>\n",
              "    <tr>\n",
              "      <th>111</th>\n",
              "      <td>19.035280</td>\n",
              "      <td>-98.267856</td>\n",
              "      <td>1.0</td>\n",
              "      <td>1.0</td>\n",
              "      <td>1.0</td>\n",
              "      <td>0.0</td>\n",
              "      <td>50.0</td>\n",
              "      <td>70.0</td>\n",
              "      <td>21.0</td>\n",
              "    </tr>\n",
              "    <tr>\n",
              "      <th>112</th>\n",
              "      <td>19.035451</td>\n",
              "      <td>-98.267862</td>\n",
              "      <td>1.0</td>\n",
              "      <td>3.0</td>\n",
              "      <td>2.0</td>\n",
              "      <td>0.0</td>\n",
              "      <td>0.0</td>\n",
              "      <td>0.0</td>\n",
              "      <td>18.0</td>\n",
              "    </tr>\n",
              "    <tr>\n",
              "      <th>113</th>\n",
              "      <td>19.035486</td>\n",
              "      <td>-98.267831</td>\n",
              "      <td>1.0</td>\n",
              "      <td>2.0</td>\n",
              "      <td>4.0</td>\n",
              "      <td>0.0</td>\n",
              "      <td>30.0</td>\n",
              "      <td>100.0</td>\n",
              "      <td>18.0</td>\n",
              "    </tr>\n",
              "    <tr>\n",
              "      <th>114</th>\n",
              "      <td>19.035399</td>\n",
              "      <td>-98.267924</td>\n",
              "      <td>1.0</td>\n",
              "      <td>0.0</td>\n",
              "      <td>3.0</td>\n",
              "      <td>0.0</td>\n",
              "      <td>150.0</td>\n",
              "      <td>NaN</td>\n",
              "      <td>18.0</td>\n",
              "    </tr>\n",
              "  </tbody>\n",
              "</table>\n",
              "<p>115 rows × 9 columns</p>\n",
              "</div>\n",
              "      <button class=\"colab-df-convert\" onclick=\"convertToInteractive('df-51d0b1b7-212d-433f-9058-28d03a4e95f2')\"\n",
              "              title=\"Convert this dataframe to an interactive table.\"\n",
              "              style=\"display:none;\">\n",
              "        \n",
              "  <svg xmlns=\"http://www.w3.org/2000/svg\" height=\"24px\"viewBox=\"0 0 24 24\"\n",
              "       width=\"24px\">\n",
              "    <path d=\"M0 0h24v24H0V0z\" fill=\"none\"/>\n",
              "    <path d=\"M18.56 5.44l.94 2.06.94-2.06 2.06-.94-2.06-.94-.94-2.06-.94 2.06-2.06.94zm-11 1L8.5 8.5l.94-2.06 2.06-.94-2.06-.94L8.5 2.5l-.94 2.06-2.06.94zm10 10l.94 2.06.94-2.06 2.06-.94-2.06-.94-.94-2.06-.94 2.06-2.06.94z\"/><path d=\"M17.41 7.96l-1.37-1.37c-.4-.4-.92-.59-1.43-.59-.52 0-1.04.2-1.43.59L10.3 9.45l-7.72 7.72c-.78.78-.78 2.05 0 2.83L4 21.41c.39.39.9.59 1.41.59.51 0 1.02-.2 1.41-.59l7.78-7.78 2.81-2.81c.8-.78.8-2.07 0-2.86zM5.41 20L4 18.59l7.72-7.72 1.47 1.35L5.41 20z\"/>\n",
              "  </svg>\n",
              "      </button>\n",
              "      \n",
              "  <style>\n",
              "    .colab-df-container {\n",
              "      display:flex;\n",
              "      flex-wrap:wrap;\n",
              "      gap: 12px;\n",
              "    }\n",
              "\n",
              "    .colab-df-convert {\n",
              "      background-color: #E8F0FE;\n",
              "      border: none;\n",
              "      border-radius: 50%;\n",
              "      cursor: pointer;\n",
              "      display: none;\n",
              "      fill: #1967D2;\n",
              "      height: 32px;\n",
              "      padding: 0 0 0 0;\n",
              "      width: 32px;\n",
              "    }\n",
              "\n",
              "    .colab-df-convert:hover {\n",
              "      background-color: #E2EBFA;\n",
              "      box-shadow: 0px 1px 2px rgba(60, 64, 67, 0.3), 0px 1px 3px 1px rgba(60, 64, 67, 0.15);\n",
              "      fill: #174EA6;\n",
              "    }\n",
              "\n",
              "    [theme=dark] .colab-df-convert {\n",
              "      background-color: #3B4455;\n",
              "      fill: #D2E3FC;\n",
              "    }\n",
              "\n",
              "    [theme=dark] .colab-df-convert:hover {\n",
              "      background-color: #434B5C;\n",
              "      box-shadow: 0px 1px 3px 1px rgba(0, 0, 0, 0.15);\n",
              "      filter: drop-shadow(0px 1px 2px rgba(0, 0, 0, 0.3));\n",
              "      fill: #FFFFFF;\n",
              "    }\n",
              "  </style>\n",
              "\n",
              "      <script>\n",
              "        const buttonEl =\n",
              "          document.querySelector('#df-51d0b1b7-212d-433f-9058-28d03a4e95f2 button.colab-df-convert');\n",
              "        buttonEl.style.display =\n",
              "          google.colab.kernel.accessAllowed ? 'block' : 'none';\n",
              "\n",
              "        async function convertToInteractive(key) {\n",
              "          const element = document.querySelector('#df-51d0b1b7-212d-433f-9058-28d03a4e95f2');\n",
              "          const dataTable =\n",
              "            await google.colab.kernel.invokeFunction('convertToInteractive',\n",
              "                                                     [key], {});\n",
              "          if (!dataTable) return;\n",
              "\n",
              "          const docLinkHtml = 'Like what you see? Visit the ' +\n",
              "            '<a target=\"_blank\" href=https://colab.research.google.com/notebooks/data_table.ipynb>data table notebook</a>'\n",
              "            + ' to learn more about interactive tables.';\n",
              "          element.innerHTML = '';\n",
              "          dataTable['output_type'] = 'display_data';\n",
              "          await google.colab.output.renderOutput(dataTable, element);\n",
              "          const docLink = document.createElement('div');\n",
              "          docLink.innerHTML = docLinkHtml;\n",
              "          element.appendChild(docLink);\n",
              "        }\n",
              "      </script>\n",
              "    </div>\n",
              "  </div>\n",
              "  "
            ]
          },
          "metadata": {},
          "execution_count": 79
        }
      ]
    },
    {
      "cell_type": "code",
      "source": [
        "#corroboramos valores  nulos\n",
        "valores_nulos=datos4.isnull().sum()\n",
        "valores_nulos"
      ],
      "metadata": {
        "colab": {
          "base_uri": "https://localhost:8080/"
        },
        "id": "jXugFoMOR6kM",
        "outputId": "8cc4bdbb-9cdb-4619-f888-9f8fcaa0fb89"
      },
      "execution_count": 80,
      "outputs": [
        {
          "output_type": "execute_result",
          "data": {
            "text/plain": [
              "_latitude                              0\n",
              "_longitude                             0\n",
              "238_frequency_buying_store             2\n",
              "81_number_online_purchases_month       2\n",
              "288_number_app_purchases_month         1\n",
              "289_number_whatsapp_purchases_month    1\n",
              "83_willingness_ultrafast_delivery      2\n",
              "84_willingness_sameday_delivery        2\n",
              "241_age_of_the_interviewee             1\n",
              "dtype: int64"
            ]
          },
          "metadata": {},
          "execution_count": 80
        }
      ]
    },
    {
      "cell_type": "code",
      "source": [
        "#reemplazamos valores atipicos (nulos) con \"mean\"\n",
        "datos_casi=datos4.copy()\n",
        "datos_casi=datos_casi.fillna(round(datos4.mean(),1))\n",
        "datos_casi"
      ],
      "metadata": {
        "id": "IybX_AjcWPxm"
      },
      "execution_count": null,
      "outputs": []
    },
    {
      "cell_type": "code",
      "source": [
        "#corroboramos valores  nulos\n",
        "valores_nulos=datos_casi.isnull().sum()\n",
        "valores_nulos"
      ],
      "metadata": {
        "colab": {
          "base_uri": "https://localhost:8080/"
        },
        "id": "mMB4VJ0cWoSz",
        "outputId": "98c011bb-38fd-4893-8a84-c65ab10e0b84"
      },
      "execution_count": 85,
      "outputs": [
        {
          "output_type": "execute_result",
          "data": {
            "text/plain": [
              "_latitude                              0\n",
              "_longitude                             0\n",
              "238_frequency_buying_store             0\n",
              "81_number_online_purchases_month       0\n",
              "288_number_app_purchases_month         0\n",
              "289_number_whatsapp_purchases_month    0\n",
              "83_willingness_ultrafast_delivery      0\n",
              "84_willingness_sameday_delivery        0\n",
              "241_age_of_the_interviewee             0\n",
              "dtype: int64"
            ]
          },
          "metadata": {},
          "execution_count": 85
        }
      ]
    },
    {
      "cell_type": "code",
      "source": [
        "#Unimos la columna 'indice_tiempo' con el data frame\n",
        "strings=datos2[['_record_id','_title', '_server_updated_at', '_updated_by','_geometry', '282_payment_method_that_purchase', '283_fulfill_needs', '300_did_not_find', '237_distance_household_interviewee', '299_means_transportation_consumer', '284_additional_products_store', '301_electricity_bill', '305_electricity_bill_store', '302_water_bill', '306_water_bill_store', '303_gas_bill', '307_gas_bill_store', '286_topups', '308_topups_in_store', '287_wire_transfers', '320_other_services_in_store', '304_additional_services_store', '240_gender_interviewee', 'indicate_the_type_of_store', 'name_of_the_store', 'storefront_picture_just_once_if_possible']]\n",
        "Datos_limpios=pd.concat([strings, datos4 ], axis=1)\n",
        "Datos_limpios"
      ],
      "metadata": {
        "id": "Qhhm-dLUZovK"
      },
      "execution_count": null,
      "outputs": []
    },
    {
      "cell_type": "code",
      "source": [
        "#convertir dataframe a csv\n",
        "Datos_limpios.to_csv(\"Datos_limpios.csv\")"
      ],
      "metadata": {
        "id": "e1sxBi3bZUp-"
      },
      "execution_count": 91,
      "outputs": []
    },
    {
      "cell_type": "code",
      "source": [
        "from google.colab import files\n",
        "files.download(\"Datos_limpios.csv\") "
      ],
      "metadata": {
        "colab": {
          "base_uri": "https://localhost:8080/",
          "height": 17
        },
        "id": "dScGjqMwZbBi",
        "outputId": "d6f035bb-6105-4fae-b0f0-b02ad1faa360"
      },
      "execution_count": 92,
      "outputs": [
        {
          "output_type": "display_data",
          "data": {
            "text/plain": [
              "<IPython.core.display.Javascript object>"
            ],
            "application/javascript": [
              "\n",
              "    async function download(id, filename, size) {\n",
              "      if (!google.colab.kernel.accessAllowed) {\n",
              "        return;\n",
              "      }\n",
              "      const div = document.createElement('div');\n",
              "      const label = document.createElement('label');\n",
              "      label.textContent = `Downloading \"${filename}\": `;\n",
              "      div.appendChild(label);\n",
              "      const progress = document.createElement('progress');\n",
              "      progress.max = size;\n",
              "      div.appendChild(progress);\n",
              "      document.body.appendChild(div);\n",
              "\n",
              "      const buffers = [];\n",
              "      let downloaded = 0;\n",
              "\n",
              "      const channel = await google.colab.kernel.comms.open(id);\n",
              "      // Send a message to notify the kernel that we're ready.\n",
              "      channel.send({})\n",
              "\n",
              "      for await (const message of channel.messages) {\n",
              "        // Send a message to notify the kernel that we're ready.\n",
              "        channel.send({})\n",
              "        if (message.buffers) {\n",
              "          for (const buffer of message.buffers) {\n",
              "            buffers.push(buffer);\n",
              "            downloaded += buffer.byteLength;\n",
              "            progress.value = downloaded;\n",
              "          }\n",
              "        }\n",
              "      }\n",
              "      const blob = new Blob(buffers, {type: 'application/binary'});\n",
              "      const a = document.createElement('a');\n",
              "      a.href = window.URL.createObjectURL(blob);\n",
              "      a.download = filename;\n",
              "      div.appendChild(a);\n",
              "      a.click();\n",
              "      div.remove();\n",
              "    }\n",
              "  "
            ]
          },
          "metadata": {}
        },
        {
          "output_type": "display_data",
          "data": {
            "text/plain": [
              "<IPython.core.display.Javascript object>"
            ],
            "application/javascript": [
              "download(\"download_8d3379ec-21d2-45d2-a7fc-c1658ca6c2c9\", \"Datos_limpios.csv\", 58779)"
            ]
          },
          "metadata": {}
        }
      ]
    }
  ]
}