{
  "nbformat": 4,
  "nbformat_minor": 0,
  "metadata": {
    "colab": {
      "provenance": [],
      "authorship_tag": "ABX9TyOdR7lcFsCWEvfk2e6kXb9/",
      "include_colab_link": true
    },
    "kernelspec": {
      "name": "python3",
      "display_name": "Python 3"
    },
    "language_info": {
      "name": "python"
    }
  },
  "cells": [
    {
      "cell_type": "markdown",
      "metadata": {
        "id": "view-in-github",
        "colab_type": "text"
      },
      "source": [
        "<a href=\"https://colab.research.google.com/github/Juankisxd/Examen1/blob/main/LAST_MILE_DELIVERY_LIFT_LAB.ipynb\" target=\"_parent\"><img src=\"https://colab.research.google.com/assets/colab-badge.svg\" alt=\"Open In Colab\"/></a>"
      ]
    },
    {
      "cell_type": "code",
      "execution_count": 61,
      "metadata": {
        "id": "0u9Fuk-QesIF"
      },
      "outputs": [],
      "source": [
        "#Importamos librerias pandas, numpy y matplotlib \n",
        "import pandas as pd\n",
        "import numpy as np \n",
        "import matplotlib.pyplot as plt "
      ]
    },
    {
      "cell_type": "code",
      "source": [
        "#cargar archivo csv desde equipo\n",
        "from google.colab import files \n",
        "files.upload()"
      ],
      "metadata": {
        "id": "M7gjf98ae1xl"
      },
      "execution_count": null,
      "outputs": []
    },
    {
      "cell_type": "code",
      "source": [
        "#cargar archivo csv sin indice \n",
        "data= pd.read_csv('lastmile_delivery_operations_mit_lift_lab.csv')\n"
      ],
      "metadata": {
        "id": "vXIin9u2e6HR"
      },
      "execution_count": 63,
      "outputs": []
    },
    {
      "cell_type": "code",
      "source": [
        "#verificar info\n",
        "data.info()"
      ],
      "metadata": {
        "id": "zJYcNrUyff5K"
      },
      "execution_count": null,
      "outputs": []
    },
    {
      "cell_type": "code",
      "source": [
        "#corroboramos valores nulos\n",
        "valores_nulos=data.isnull().sum()\n",
        "valores_nulos"
      ],
      "metadata": {
        "id": "j3xGpVqIfiSe"
      },
      "execution_count": null,
      "outputs": []
    },
    {
      "cell_type": "code",
      "source": [
        "#en este caso se eliminan las columnas de 'describe_the_accident' y 'maximum_number_of_vehicles_in_the_traffic_jam' ya que no son datos relevantes y no cuentan con valores completos\n",
        "data= data.drop([\"describe_the_accident\",\"maximum_number_of_vehicles_in_the_traffic_jam\" ], axis=1)\n",
        "data"
      ],
      "metadata": {
        "id": "_1gc4E6RpBrJ"
      },
      "execution_count": null,
      "outputs": []
    },
    {
      "cell_type": "code",
      "source": [
        "#corroboramos valores nulos\n",
        "valores_nulos=data.isnull().sum()\n",
        "valores_nulos"
      ],
      "metadata": {
        "colab": {
          "base_uri": "https://localhost:8080/"
        },
        "id": "WbGJJUKApiv4",
        "outputId": "796decf5-6ae1-4115-ea0c-65d965836235"
      },
      "execution_count": 67,
      "outputs": [
        {
          "output_type": "execute_result",
          "data": {
            "text/plain": [
              "_record_id                                 0\n",
              "_title                                     6\n",
              "_server_updated_at                         0\n",
              "_updated_by                                0\n",
              "_geometry                                  0\n",
              "_latitude                                  0\n",
              "_longitude                                 0\n",
              "arrival_of_the_freight_vehicle             0\n",
              "plates                                     1\n",
              "company_if_visible                        73\n",
              "visit_purpose                              0\n",
              "type_of_vehicle                            0\n",
              "number_of_operators                        0\n",
              "refrigerated_truck                         0\n",
              "type_of_cargo                              0\n",
              "picture_of_the_parked_freight_vehicle      0\n",
              "departure_of_the_freight_vehicle           0\n",
              "where_was_the_vehicle_parked               0\n",
              "while_parked_was_the_engine_running        0\n",
              "used_traffic_cone                          0\n",
              "vehicles_unloading_door                    0\n",
              "number_of_available_trolleys               0\n",
              "serving_customer                         147\n",
              "garage_blocking                            0\n",
              "accident                                   0\n",
              "noise                                      0\n",
              "traffic_congestion                         0\n",
              "dtype: int64"
            ]
          },
          "metadata": {},
          "execution_count": 67
        }
      ]
    },
    {
      "cell_type": "markdown",
      "source": [
        "*REEMPLAZAMOS* DATOS NULOS \n"
      ],
      "metadata": {
        "id": "zQdT4TAgf0Br"
      }
    },
    {
      "cell_type": "code",
      "source": [
        "#para el primero '_title', al ser un string se ocupara la funcion .fillna y la frase \"CALLE_NO_DISPONIBLE\", ya que el gps puede que no haya funcionado\n",
        "data[\"_title\"]=data[\"_title\"].fillna(\"CALLE_NO_DISPONIBLE\")\n",
        "data"
      ],
      "metadata": {
        "id": "39eveYjTf_He"
      },
      "execution_count": null,
      "outputs": []
    },
    {
      "cell_type": "code",
      "source": [
        "#para la columna 'plates', al ser un string se ocupara la funcion .fillna y la frase \"PLACA_NO_PROPORCIONADA\", ya que puede que el usuario no haya querido proporionar su placa \n",
        "data[\"plates\"]=data[\"plates\"].fillna(\"PLACA_NO_PROPORCIONADA\")\n",
        "data"
      ],
      "metadata": {
        "id": "OFUFYK1MgTDV"
      },
      "execution_count": null,
      "outputs": []
    },
    {
      "cell_type": "code",
      "source": [
        "#para la columna 'company_if_visible', al ser un string se ocupara la funcion .fillna y la frase \"COMPAÑIA_NO_VISIBLE\", ya que puede que el camion no tenga la compañia a la vista\n",
        "data[\"company_if_visible\"]=data[\"company_if_visible\"].fillna(\"COMPAÑIA_NO_VISIBLE\")\n",
        "data"
      ],
      "metadata": {
        "id": "zw1XUNQugkcn"
      },
      "execution_count": null,
      "outputs": []
    },
    {
      "cell_type": "code",
      "source": [
        "#para la columna 'serving_customer', al ser un valor numerico unico, se define que los camiones nada mas cubrian 1 entrega a la vez, por lo que se aplicara el metodo de valor unico de '1' para rellenar\n",
        "data[\"serving_customer\"]=data[\"serving_customer\"].fillna(1)\n",
        "data"
      ],
      "metadata": {
        "id": "UYRxeo8Vhs9N"
      },
      "execution_count": null,
      "outputs": []
    },
    {
      "cell_type": "code",
      "source": [
        "#corroboramos valores nulos\n",
        "valores_nulos=data.isnull().sum()\n",
        "valores_nulos"
      ],
      "metadata": {
        "id": "ILP7ne37kvNE"
      },
      "execution_count": null,
      "outputs": []
    },
    {
      "cell_type": "code",
      "source": [
        "#realizamos diagrama de caja o bigote de cada columna \n",
        "fig= plt.figure(figsize=(15,8))\n",
        "data.plot(kind='box', vert=False)\n",
        "plt.title (\"Valores atipicos del Dataframe\")\n",
        "plt.show() #dibujamos el diagrama"
      ],
      "metadata": {
        "id": "AFeGKFKGld7e"
      },
      "execution_count": null,
      "outputs": []
    },
    {
      "cell_type": "markdown",
      "source": [
        "ELIMINACION DE OUTLIERS"
      ],
      "metadata": {
        "id": "hacV2alElUbS"
      }
    },
    {
      "cell_type": "code",
      "source": [
        "#eliminamos columnas innecesarias\n",
        "datos2=data.drop(['_record_id', '_title', '_server_updated_at', '_updated_by', '_geometry', 'arrival_of_the_freight_vehicle', 'plates', 'company_if_visible', 'visit_purpose', 'type_of_vehicle', 'refrigerated_truck', 'type_of_cargo', 'picture_of_the_parked_freight_vehicle','departure_of_the_freight_vehicle', 'where_was_the_vehicle_parked', 'while_parked_was_the_engine_running', 'used_traffic_cone', 'vehicles_unloading_door', 'garage_blocking', 'accident', 'noise', 'traffic_congestion' ], axis=1)\n",
        "datos2"
      ],
      "metadata": {
        "id": "U-f3TktMiiyk"
      },
      "execution_count": null,
      "outputs": []
    },
    {
      "cell_type": "code",
      "source": [
        "#en este punto se define la desviacion estandar\n",
        "y=datos2\n",
        "limite_superior= y.mean()+3*y.std()\n",
        "limite_inferior= y.mean()-3*y.std()\n",
        "print(\"Limite superior permitido\", limite_superior)\n",
        "print(\"Limite inferior permitido\", limite_superior)"
      ],
      "metadata": {
        "id": "o5fuYUpLl8Zr"
      },
      "execution_count": null,
      "outputs": []
    },
    {
      "cell_type": "code",
      "source": [
        "#encontramos outliers del dataframe \n",
        "outliers= datos2[(y>limite_superior)|(y<limite_inferior)]\n",
        "outliers"
      ],
      "metadata": {
        "id": "nHV0rz22mBPy"
      },
      "execution_count": null,
      "outputs": []
    },
    {
      "cell_type": "code",
      "source": [
        "#convertir outliers en nulos en dataframe\n",
        "datos3 = datos2[(y<=limite_superior)&(y>=limite_inferior)]\n",
        "datos3"
      ],
      "metadata": {
        "id": "sfdJbmmSmGaD"
      },
      "execution_count": null,
      "outputs": []
    },
    {
      "cell_type": "code",
      "source": [
        "#corroboramos valores  nulos\n",
        "valores_nulos=datos3.isnull().sum()\n",
        "valores_nulos"
      ],
      "metadata": {
        "colab": {
          "base_uri": "https://localhost:8080/"
        },
        "id": "kLS7a7x0mWO4",
        "outputId": "7d6da932-de3f-43a0-ace8-73dfe0c1df28"
      },
      "execution_count": 81,
      "outputs": [
        {
          "output_type": "execute_result",
          "data": {
            "text/plain": [
              "_latitude                       0\n",
              "_longitude                      0\n",
              "number_of_operators             2\n",
              "number_of_available_trolleys    2\n",
              "serving_customer                0\n",
              "dtype: int64"
            ]
          },
          "metadata": {},
          "execution_count": 81
        }
      ]
    },
    {
      "cell_type": "code",
      "source": [
        "#reemplazamos valores atipicos (nulos) con \"mean\"\n",
        "datos_casi=datos3.copy()\n",
        "datos_casi=datos_casi.fillna(round(datos3.mean(),1))\n",
        "datos_casi"
      ],
      "metadata": {
        "id": "iJTgbSGsodkx"
      },
      "execution_count": null,
      "outputs": []
    },
    {
      "cell_type": "code",
      "source": [
        "#corroboramos valores  nulos\n",
        "valores_nulos=datos_casi.isnull().sum()\n",
        "valores_nulos"
      ],
      "metadata": {
        "colab": {
          "base_uri": "https://localhost:8080/"
        },
        "id": "nf-UU2SGra08",
        "outputId": "f244beaf-bfb4-4544-84e9-1f0eaafce93f"
      },
      "execution_count": 83,
      "outputs": [
        {
          "output_type": "execute_result",
          "data": {
            "text/plain": [
              "_latitude                       0\n",
              "_longitude                      0\n",
              "number_of_operators             0\n",
              "number_of_available_trolleys    0\n",
              "serving_customer                0\n",
              "dtype: int64"
            ]
          },
          "metadata": {},
          "execution_count": 83
        }
      ]
    },
    {
      "cell_type": "code",
      "source": [
        "#Unimos la columna 'indice_tiempo' con el data frame\n",
        "strings=data[['_record_id', '_title', '_server_updated_at', '_updated_by', '_geometry', 'arrival_of_the_freight_vehicle', 'plates', 'company_if_visible', 'visit_purpose', 'type_of_vehicle', 'refrigerated_truck', 'type_of_cargo', 'picture_of_the_parked_freight_vehicle','departure_of_the_freight_vehicle', 'where_was_the_vehicle_parked', 'while_parked_was_the_engine_running', 'used_traffic_cone', 'vehicles_unloading_door', 'garage_blocking', 'accident', 'noise', 'traffic_congestion' ]]\n",
        "Datos_limpios=pd.concat([strings, datos3 ], axis=1)\n",
        "Datos_limpios"
      ],
      "metadata": {
        "id": "daGWxi4Urzzy"
      },
      "execution_count": null,
      "outputs": []
    },
    {
      "cell_type": "code",
      "source": [
        "#convertir dataframe a csv\n",
        "Datos_limpios.to_csv(\"Datos_limpios_LAST_MILE_DELIVERY_LIFT_LAB.csv\")"
      ],
      "metadata": {
        "id": "MHbp9vWFsuOO"
      },
      "execution_count": 85,
      "outputs": []
    },
    {
      "cell_type": "code",
      "source": [
        "from google.colab import files\n",
        "files.download(\"Datos_limpios_LAST_MILE_DELIVERY_LIFT_LAB.csv\") "
      ],
      "metadata": {
        "colab": {
          "base_uri": "https://localhost:8080/",
          "height": 17
        },
        "id": "G0jgd3Bos1T4",
        "outputId": "894be799-a275-492e-b9f6-66a43ea59240"
      },
      "execution_count": 86,
      "outputs": [
        {
          "output_type": "display_data",
          "data": {
            "text/plain": [
              "<IPython.core.display.Javascript object>"
            ],
            "application/javascript": [
              "\n",
              "    async function download(id, filename, size) {\n",
              "      if (!google.colab.kernel.accessAllowed) {\n",
              "        return;\n",
              "      }\n",
              "      const div = document.createElement('div');\n",
              "      const label = document.createElement('label');\n",
              "      label.textContent = `Downloading \"${filename}\": `;\n",
              "      div.appendChild(label);\n",
              "      const progress = document.createElement('progress');\n",
              "      progress.max = size;\n",
              "      div.appendChild(progress);\n",
              "      document.body.appendChild(div);\n",
              "\n",
              "      const buffers = [];\n",
              "      let downloaded = 0;\n",
              "\n",
              "      const channel = await google.colab.kernel.comms.open(id);\n",
              "      // Send a message to notify the kernel that we're ready.\n",
              "      channel.send({})\n",
              "\n",
              "      for await (const message of channel.messages) {\n",
              "        // Send a message to notify the kernel that we're ready.\n",
              "        channel.send({})\n",
              "        if (message.buffers) {\n",
              "          for (const buffer of message.buffers) {\n",
              "            buffers.push(buffer);\n",
              "            downloaded += buffer.byteLength;\n",
              "            progress.value = downloaded;\n",
              "          }\n",
              "        }\n",
              "      }\n",
              "      const blob = new Blob(buffers, {type: 'application/binary'});\n",
              "      const a = document.createElement('a');\n",
              "      a.href = window.URL.createObjectURL(blob);\n",
              "      a.download = filename;\n",
              "      div.appendChild(a);\n",
              "      a.click();\n",
              "      div.remove();\n",
              "    }\n",
              "  "
            ]
          },
          "metadata": {}
        },
        {
          "output_type": "display_data",
          "data": {
            "text/plain": [
              "<IPython.core.display.Javascript object>"
            ],
            "application/javascript": [
              "download(\"download_8fd68818-1042-45b4-a8bf-ade673a1a7cc\", \"Datos_limpios_LAST_MILE_DELIVERY_LIFT_LAB.csv\", 87653)"
            ]
          },
          "metadata": {}
        }
      ]
    }
  ]
}