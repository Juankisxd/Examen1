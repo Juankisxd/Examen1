{
  "nbformat": 4,
  "nbformat_minor": 0,
  "metadata": {
    "colab": {
      "provenance": [],
      "authorship_tag": "ABX9TyMtMf4kaUk2ncWU1/CC96aG",
      "include_colab_link": true
    },
    "kernelspec": {
      "name": "python3",
      "display_name": "Python 3"
    },
    "language_info": {
      "name": "python"
    }
  },
  "cells": [
    {
      "cell_type": "markdown",
      "metadata": {
        "id": "view-in-github",
        "colab_type": "text"
      },
      "source": [
        "<a href=\"https://colab.research.google.com/github/Juankisxd/Examen1/blob/main/SERVING_COSTUMER.ipynb\" target=\"_parent\"><img src=\"https://colab.research.google.com/assets/colab-badge.svg\" alt=\"Open In Colab\"/></a>"
      ]
    },
    {
      "cell_type": "code",
      "execution_count": 38,
      "metadata": {
        "id": "n_pC8nT1tJ7L"
      },
      "outputs": [],
      "source": [
        "#Importamos librerias pandas, numpy y matplotlib \n",
        "import pandas as pd\n",
        "import numpy as np \n",
        "import matplotlib.pyplot as plt "
      ]
    },
    {
      "cell_type": "code",
      "source": [
        "#cargar archivo csv desde equipo\n",
        "from google.colab import files \n",
        "files.upload()"
      ],
      "metadata": {
        "id": "GHQ_phWvtWl7"
      },
      "execution_count": null,
      "outputs": []
    },
    {
      "cell_type": "code",
      "source": [
        "#cargar archivo csv sin indice \n",
        "data= pd.read_csv('lastmile_delivery_operations_mit_lift_lab_serving_customer.csv')"
      ],
      "metadata": {
        "id": "jWAvS3mFtelH"
      },
      "execution_count": 40,
      "outputs": []
    },
    {
      "cell_type": "code",
      "source": [
        "#verificar info\n",
        "data.info()"
      ],
      "metadata": {
        "id": "8b1PyzCQtla2"
      },
      "execution_count": null,
      "outputs": []
    },
    {
      "cell_type": "code",
      "source": [
        "#corroboramos valores nulos\n",
        "valores_nulos=data.isnull().sum()\n",
        "valores_nulos"
      ],
      "metadata": {
        "id": "LvtdYqjnuCEb"
      },
      "execution_count": null,
      "outputs": []
    },
    {
      "cell_type": "markdown",
      "source": [
        "*REEMPLAZAMOS* DATOS NULOS \n",
        "\n",
        "\n"
      ],
      "metadata": {
        "id": "qe1rIQ5yuVGl"
      }
    },
    {
      "cell_type": "code",
      "source": [
        "#para la columna 'picture_cargo_being_delivered', al ser cuestiones de imagenes, se pueden sustituir con un .fillna que diga \"IMAGEN_NO_DISPONIBLE\"\n",
        "data[\"picture_cargo_being_delivered\"]=data[\"picture_cargo_being_delivered\"].fillna(\"IMAGEN_NO_DISPONIBLE\")\n",
        "data"
      ],
      "metadata": {
        "id": "bNHh_IHRuYIV"
      },
      "execution_count": null,
      "outputs": []
    },
    {
      "cell_type": "code",
      "source": [
        "#para la columna 'picture_cargo_being_delivered_captions', al ser cuestiones de imagenes, se pueden sustituir con un .fillna que diga \"IMAGEN_NO_DISPONIBLE\"\n",
        "data[\"picture_cargo_being_delivered_captions\"]=data[\"picture_cargo_being_delivered_captions\"].fillna(\"IMAGEN_NO_DISPONIBLE\")\n",
        "data"
      ],
      "metadata": {
        "id": "nFjI9d6NvQDH"
      },
      "execution_count": null,
      "outputs": []
    },
    {
      "cell_type": "code",
      "source": [
        "#para la columna 'picture_cargo_being_delivered_urls', al ser cuestiones de imagenes, se pueden sustituir con un .fillna que diga \"IMAGEN_NO_DISPONIBLE\"\n",
        "data[\"picture_cargo_being_delivered_urls\"]=data[\"picture_cargo_being_delivered_urls\"].fillna(\"IMAGEN_NO_DISPONIBLE\")\n",
        "data"
      ],
      "metadata": {
        "id": "P_W_us6Jvb98"
      },
      "execution_count": null,
      "outputs": []
    },
    {
      "cell_type": "code",
      "source": [
        "#corroboramos valores nulos\n",
        "valores_nulos=data.isnull().sum()\n",
        "valores_nulos"
      ],
      "metadata": {
        "id": "xliu1ED8vi-h"
      },
      "execution_count": null,
      "outputs": []
    },
    {
      "cell_type": "code",
      "source": [
        "#realizamos diagrama de caja o bigote de cada columna en base a los datos curados\n",
        "fig= plt.figure(figsize=(15,8))\n",
        "data.plot(kind='box', vert=False)\n",
        "plt.title (\"Valores atipicos del Dataframe\")\n",
        "plt.show() #dibujamos el diagrama"
      ],
      "metadata": {
        "colab": {
          "base_uri": "https://localhost:8080/",
          "height": 298
        },
        "id": "xiXmOntNwGPc",
        "outputId": "c33cd97a-21fb-4000-84dd-94478080e708"
      },
      "execution_count": 47,
      "outputs": [
        {
          "output_type": "display_data",
          "data": {
            "text/plain": [
              "<Figure size 1080x576 with 0 Axes>"
            ]
          },
          "metadata": {}
        },
        {
          "output_type": "display_data",
          "data": {
            "text/plain": [
              "<Figure size 432x288 with 1 Axes>"
            ],
            "image/png": "[encoded data removed]"
          },
          "metadata": {
            "needs_background": "light"
          }
        }
      ]
    },
    {
      "cell_type": "markdown",
      "source": [
        "ELIMINACION DE OUTLIERS"
      ],
      "metadata": {
        "id": "SHYadh6lwgEA"
      }
    },
    {
      "cell_type": "code",
      "source": [
        "#en este punto se define la desviacion estandar en base a los datos restantes\n",
        "y=data\n",
        "limite_superior= y.mean()+3*y.std()\n",
        "limite_inferior= y.mean()-3*y.std()\n",
        "print(\"Limite superior permitido\", limite_superior)\n",
        "print(\"Limite inferior permitido\", limite_superior)"
      ],
      "metadata": {
        "colab": {
          "base_uri": "https://localhost:8080/"
        },
        "id": "mOnFWIl9yi2a",
        "outputId": "d883da3c-2788-469b-c6e6-df6a0a99fa26"
      },
      "execution_count": 52,
      "outputs": [
        {
          "output_type": "stream",
          "name": "stdout",
          "text": [
            "Limite superior permitido _created_duration                  358.403131\n",
            "_updated_duration                  485.826981\n",
            "_edited_duration                   483.899300\n",
            "number_of_customers_in_store         7.828641\n",
            "number_of_suppliers_in_store         4.146352\n",
            "number_of_cases_boxes_delivered     26.908299\n",
            "dtype: float64\n",
            "Limite inferior permitido _created_duration                  358.403131\n",
            "_updated_duration                  485.826981\n",
            "_edited_duration                   483.899300\n",
            "number_of_customers_in_store         7.828641\n",
            "number_of_suppliers_in_store         4.146352\n",
            "number_of_cases_boxes_delivered     26.908299\n",
            "dtype: float64\n"
          ]
        }
      ]
    },
    {
      "cell_type": "code",
      "source": [
        "#encontramos outliers del dataframe curado\n",
        "data1= data[(y>limite_superior)|(y<limite_inferior)]\n",
        "data1"
      ],
      "metadata": {
        "id": "aWoYu9Dcy9Pf"
      },
      "execution_count": null,
      "outputs": []
    },
    {
      "cell_type": "code",
      "source": [
        "#convertir outliers en nulos en dataframe\n",
        "datos2 = data[(y<=limite_superior)&(y>=limite_inferior)]\n",
        "datos2"
      ],
      "metadata": {
        "id": "jT5omcvwzBDo"
      },
      "execution_count": null,
      "outputs": []
    },
    {
      "cell_type": "code",
      "source": [
        "#corroboramos valores  nulos\n",
        "valores_nulos=data.isnull().sum()\n",
        "valores_nulos"
      ],
      "metadata": {
        "id": "nw44KcqFzEPV"
      },
      "execution_count": null,
      "outputs": []
    },
    {
      "cell_type": "code",
      "source": [
        "#SE ELIMINNAN COLUMNAS INNECESARIOS\n",
        "data3=data.drop(['_child_record_id','_record_id', '_title', '_version', '_created_at', '_updated_at', '_updated_by', '_created_by', '_index','_geometry', '_latitude', '_longitude', '_changeset_id', 'name_of_the_store', 'entering_the_store','picture_cargo_being_delivered','picture_cargo_being_delivered_urls', 'picture_cargo_being_delivered_captions', 'trolley_in_use', 'leaving_the_store'], axis=1)\n",
        "data3"
      ],
      "metadata": {
        "id": "7yMPhs092uul"
      },
      "execution_count": null,
      "outputs": []
    },
    {
      "cell_type": "code",
      "source": [
        "#Unimos la columna 'indice_tiempo' con el data frame\n",
        "strings=data[['_parent_id','_child_record_id','_record_id', '_title', '_version', '_created_at', '_updated_at', '_updated_by', '_created_by', '_index','_geometry', '_latitude', '_longitude', '_changeset_id', 'name_of_the_store', 'entering_the_store','picture_cargo_being_delivered','picture_cargo_being_delivered_urls', 'picture_cargo_being_delivered_captions', 'trolley_in_use', 'leaving_the_store' ]]\n",
        "Datos_limpios=pd.concat([strings, data ], axis=1)\n",
        "Datos_limpios"
      ],
      "metadata": {
        "id": "Ojk1eRIp05O8"
      },
      "execution_count": null,
      "outputs": []
    },
    {
      "cell_type": "code",
      "source": [
        "#convertir dataframe a csv\n",
        "Datos_limpios.to_csv(\"Datos_limpios_LAST_MILE_DELIVERY_LIFT_LAB_SERVING_COSTUMER.csv\")"
      ],
      "metadata": {
        "id": "fGDETM2w1Cus"
      },
      "execution_count": 59,
      "outputs": []
    },
    {
      "cell_type": "code",
      "source": [
        "from google.colab import files\n",
        "files.download(\"Datos_limpios_LAST_MILE_DELIVERY_LIFT_LAB_SERVING_COSTUMER.csv\") "
      ],
      "metadata": {
        "colab": {
          "base_uri": "https://localhost:8080/",
          "height": 17
        },
        "id": "b6y4NObV1HTo",
        "outputId": "6c220e36-4a47-4cb0-b269-c6e21c400a1c"
      },
      "execution_count": 60,
      "outputs": [
        {
          "output_type": "display_data",
          "data": {
            "text/plain": [
              "<IPython.core.display.Javascript object>"
            ],
            "application/javascript": [
              "\n",
              "    async function download(id, filename, size) {\n",
              "      if (!google.colab.kernel.accessAllowed) {\n",
              "        return;\n",
              "      }\n",
              "      const div = document.createElement('div');\n",
              "      const label = document.createElement('label');\n",
              "      label.textContent = `Downloading \"${filename}\": `;\n",
              "      div.appendChild(label);\n",
              "      const progress = document.createElement('progress');\n",
              "      progress.max = size;\n",
              "      div.appendChild(progress);\n",
              "      document.body.appendChild(div);\n",
              "\n",
              "      const buffers = [];\n",
              "      let downloaded = 0;\n",
              "\n",
              "      const channel = await google.colab.kernel.comms.open(id);\n",
              "      // Send a message to notify the kernel that we're ready.\n",
              "      channel.send({})\n",
              "\n",
              "      for await (const message of channel.messages) {\n",
              "        // Send a message to notify the kernel that we're ready.\n",
              "        channel.send({})\n",
              "        if (message.buffers) {\n",
              "          for (const buffer of message.buffers) {\n",
              "            buffers.push(buffer);\n",
              "            downloaded += buffer.byteLength;\n",
              "            progress.value = downloaded;\n",
              "          }\n",
              "        }\n",
              "      }\n",
              "      const blob = new Blob(buffers, {type: 'application/binary'});\n",
              "      const a = document.createElement('a');\n",
              "      a.href = window.URL.createObjectURL(blob);\n",
              "      a.download = filename;\n",
              "      div.appendChild(a);\n",
              "      a.click();\n",
              "      div.remove();\n",
              "    }\n",
              "  "
            ]
          },
          "metadata": {}
        },
        {
          "output_type": "display_data",
          "data": {
            "text/plain": [
              "<IPython.core.display.Javascript object>"
            ],
            "application/javascript": [
              "download(\"download_26cb0baf-445a-4417-93d4-429f15d56ea4\", \"Datos_limpios_LAST_MILE_DELIVERY_LIFT_LAB_SERVING_COSTUMER.csv\", 44526)"
            ]
          },
          "metadata": {}
        }
      ]
    }
  ]
}